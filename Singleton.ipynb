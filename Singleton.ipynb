{
 "cells": [
  {
   "attachments": {},
   "cell_type": "markdown",
   "metadata": {},
   "source": [
    "# 单例\n",
    "亦称：单件模式、Singleton  \n",
    "单例是一种创建型设计模式，让你能够保证一个类只有一　个实例，并提供一个访问该实例的全局节点。"
   ]
  },
  {
   "attachments": {},
   "cell_type": "markdown",
   "metadata": {},
   "source": [
    "## Keyword"
   ]
  },
  {
   "attachments": {},
   "cell_type": "markdown",
   "metadata": {},
   "source": [
    "## 最佳抽象"
   ]
  },
  {
   "cell_type": "code",
   "execution_count": 1,
   "metadata": {},
   "outputs": [
    {
     "name": "stdout",
     "output_type": "stream",
     "text": [
      "If you see the same value, then singleton was reused (yay!)\n",
      "If you see different values, then 2 singletons were created (booo!!)\n",
      "\n",
      "RESULT:\n",
      "\n",
      "FOO\n",
      "FOO\n"
     ]
    }
   ],
   "source": [
    "from threading import Lock, Thread\n",
    "\n",
    "\n",
    "class SingletonMeta(type):\n",
    "    \"\"\"\n",
    "    This is a thread-safe implementation of Singleton.\n",
    "    \"\"\"\n",
    "\n",
    "    _instances = {}\n",
    "\n",
    "    _lock: Lock = Lock()\n",
    "    \"\"\"\n",
    "    We now have a lock object that will be used to synchronize threads during\n",
    "    first access to the Singleton.\n",
    "    \"\"\"\n",
    "\n",
    "    def __call__(cls, *args, **kwargs):\n",
    "        \"\"\"\n",
    "        Possible changes to the value of the `__init__` argument do not affect\n",
    "        the returned instance.\n",
    "        \"\"\"\n",
    "        # Now, imagine that the program has just been launched. Since there's no\n",
    "        # Singleton instance yet, multiple threads can simultaneously pass the\n",
    "        # previous conditional and reach this point almost at the same time. The\n",
    "        # first of them will acquire lock and will proceed further, while the\n",
    "        # rest will wait here.\n",
    "        with cls._lock:\n",
    "            # The first thread to acquire the lock, reaches this conditional,\n",
    "            # goes inside and creates the Singleton instance. Once it leaves the\n",
    "            # lock block, a thread that might have been waiting for the lock\n",
    "            # release may then enter this section. But since the Singleton field\n",
    "            # is already initialized, the thread won't create a new object.\n",
    "            if cls not in cls._instances:\n",
    "                instance = super().__call__(*args, **kwargs)\n",
    "                cls._instances[cls] = instance\n",
    "        return cls._instances[cls]\n",
    "\n",
    "\n",
    "class Singleton(metaclass=SingletonMeta):\n",
    "    value: str = None\n",
    "    \"\"\"\n",
    "    We'll use this property to prove that our Singleton really works.\n",
    "    \"\"\"\n",
    "\n",
    "    def __init__(self, value: str) -> None:\n",
    "        self.value = value\n",
    "\n",
    "    def some_business_logic(self):\n",
    "        \"\"\"\n",
    "        Finally, any singleton should define some business logic, which can be\n",
    "        executed on its instance.\n",
    "        \"\"\"\n",
    "\n",
    "\n",
    "def test_singleton(value: str) -> None:\n",
    "    singleton = Singleton(value)\n",
    "    print(singleton.value)\n",
    "\n",
    "\n",
    "if __name__ == \"__main__\":\n",
    "    # The client code.\n",
    "\n",
    "    print(\"If you see the same value, then singleton was reused (yay!)\\n\"\n",
    "          \"If you see different values, \"\n",
    "          \"then 2 singletons were created (booo!!)\\n\\n\"\n",
    "          \"RESULT:\\n\")\n",
    "\n",
    "    process1 = Thread(target=test_singleton, args=(\"FOO\",))\n",
    "    process2 = Thread(target=test_singleton, args=(\"BAR\",))\n",
    "    process1.start()\n",
    "    process2.start()"
   ]
  },
  {
   "attachments": {},
   "cell_type": "markdown",
   "metadata": {},
   "source": [
    "## 最简实践"
   ]
  },
  {
   "cell_type": "markdown",
   "metadata": {},
   "source": []
  },
  {
   "cell_type": "code",
   "execution_count": null,
   "metadata": {},
   "outputs": [],
   "source": [
    "# 单例\n"
   ]
  }
 ],
 "metadata": {
  "kernelspec": {
   "display_name": "base",
   "language": "python",
   "name": "python3"
  },
  "language_info": {
   "codemirror_mode": {
    "name": "ipython",
    "version": 3
   },
   "file_extension": ".py",
   "mimetype": "text/x-python",
   "name": "python",
   "nbconvert_exporter": "python",
   "pygments_lexer": "ipython3",
   "version": "3.9.12"
  },
  "orig_nbformat": 4,
  "vscode": {
   "interpreter": {
    "hash": "88279d2366fe020547cde40dd65aa0e3aa662a6ec1f3ca12d88834876c85e1a6"
   }
  }
 },
 "nbformat": 4,
 "nbformat_minor": 2
}
