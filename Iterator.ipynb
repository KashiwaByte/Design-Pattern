{
 "cells": [
  {
   "attachments": {},
   "cell_type": "markdown",
   "metadata": {},
   "source": [
    "# 迭代器\n",
    "亦称：Iterator\n",
    "迭代器是一种行为设计模式，让你能在不暴露集合底层表现形式（列表、栈和树等）的情况下遍历集合中所有的元素。"
   ]
  },
  {
   "cell_type": "markdown",
   "metadata": {},
   "source": []
  },
  {
   "attachments": {},
   "cell_type": "markdown",
   "metadata": {},
   "source": [
    "## Keyword\n",
    "Python中作如下定义：Iterator类(迭代器）是指具有__iter__()和__next__()方法的类，Iterable类(可迭代）是指具有__iter__()方法的类。iterator和iterable类不是指某一个类，而是具有某种特定方法的类的通称。"
   ]
  },
  {
   "attachments": {},
   "cell_type": "markdown",
   "metadata": {},
   "source": [
    "## 最佳抽象"
   ]
  },
  {
   "cell_type": "code",
   "execution_count": 1,
   "metadata": {},
   "outputs": [
    {
     "name": "stdout",
     "output_type": "stream",
     "text": [
      "Straight traversal:\n",
      "First\n",
      "Second\n",
      "Third\n",
      "\n",
      "Reverse traversal:\n",
      "Third\n",
      "Second\n",
      "First"
     ]
    }
   ],
   "source": [
    "from __future__ import annotations\n",
    "from collections.abc import Iterable, Iterator\n",
    "from typing import Any\n",
    "\n",
    "\n",
    "\"\"\"\n",
    "To create an iterator in Python, there are two abstract classes from the built-\n",
    "in `collections` module - Iterable,Iterator. We need to implement the\n",
    "`__iter__()` method in the iterated object (collection), and the `__next__ ()`\n",
    "method in theiterator.\n",
    "\"\"\"\n",
    "\n",
    "\n",
    "class AlphabeticalOrderIterator(Iterator):\n",
    "    \"\"\"\n",
    "    Concrete Iterators implement various traversal algorithms. These classes\n",
    "    store the current traversal position at all times.\n",
    "    \"\"\"\n",
    "\n",
    "    \"\"\"\n",
    "    `_position` attribute stores the current traversal position. An iterator may\n",
    "    have a lot of other fields for storing iteration state, especially when it\n",
    "    is supposed to work with a particular kind of collection.\n",
    "    \"\"\"\n",
    "    _position: int = None\n",
    "\n",
    "    \"\"\"\n",
    "    This attribute indicates the traversal direction.\n",
    "    \"\"\"\n",
    "    _reverse: bool = False\n",
    "\n",
    "    def __init__(self, collection: WordsCollection, reverse: bool = False) -> None:\n",
    "        self._collection = collection\n",
    "        self._reverse = reverse\n",
    "        self._position = -1 if reverse else 0\n",
    "\n",
    "    def __next__(self) -> Any:\n",
    "        \"\"\"\n",
    "        The __next__() method must return the next item in the sequence. On\n",
    "        reaching the end, and in subsequent calls, it must raise StopIteration.\n",
    "        \"\"\"\n",
    "        try:\n",
    "            value = self._collection[self._position]\n",
    "            self._position += -1 if self._reverse else 1\n",
    "        except IndexError:\n",
    "            raise StopIteration()\n",
    "\n",
    "        return value\n",
    "\n",
    "\n",
    "class WordsCollection(Iterable):\n",
    "    \"\"\"\n",
    "    Concrete Collections provide one or several methods for retrieving fresh\n",
    "    iterator instances, compatible with the collection class.\n",
    "    \"\"\"\n",
    "\n",
    "    def __init__(self, collection: list[Any] | None = None) -> None:\n",
    "        self._collection = collection or []\n",
    "\n",
    "\n",
    "    def __getitem__(self, index: int) -> Any:\n",
    "        return self._collection[index]\n",
    "\n",
    "    def __iter__(self) -> AlphabeticalOrderIterator:\n",
    "        \"\"\"\n",
    "        The __iter__() method returns the iterator object itself, by default we\n",
    "        return the iterator in ascending order.\n",
    "        \"\"\"\n",
    "        return AlphabeticalOrderIterator(self)\n",
    "\n",
    "    def get_reverse_iterator(self) -> AlphabeticalOrderIterator:\n",
    "        return AlphabeticalOrderIterator(self, True)\n",
    "\n",
    "    def add_item(self, item: Any) -> None:\n",
    "        self._collection.append(item)\n",
    "\n",
    "\n",
    "if __name__ == \"__main__\":\n",
    "    # The client code may or may not know about the Concrete Iterator or\n",
    "    # Collection classes, depending on the level of indirection you want to keep\n",
    "    # in your program.\n",
    "    collection = WordsCollection()\n",
    "    collection.add_item(\"First\")\n",
    "    collection.add_item(\"Second\")\n",
    "    collection.add_item(\"Third\")\n",
    "\n",
    "    print(\"Straight traversal:\")\n",
    "    print(\"\\n\".join(collection))\n",
    "    print(\"\")\n",
    "\n",
    "    print(\"Reverse traversal:\")\n",
    "    print(\"\\n\".join(collection.get_reverse_iterator()), end=\"\")"
   ]
  }
 ],
 "metadata": {
  "kernelspec": {
   "display_name": "base",
   "language": "python",
   "name": "python3"
  },
  "language_info": {
   "codemirror_mode": {
    "name": "ipython",
    "version": 3
   },
   "file_extension": ".py",
   "mimetype": "text/x-python",
   "name": "python",
   "nbconvert_exporter": "python",
   "pygments_lexer": "ipython3",
   "version": "3.9.12"
  },
  "orig_nbformat": 4,
  "vscode": {
   "interpreter": {
    "hash": "88279d2366fe020547cde40dd65aa0e3aa662a6ec1f3ca12d88834876c85e1a6"
   }
  }
 },
 "nbformat": 4,
 "nbformat_minor": 2
}
