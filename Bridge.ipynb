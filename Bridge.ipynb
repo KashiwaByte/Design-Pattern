{
 "cells": [
  {
   "attachments": {},
   "cell_type": "markdown",
   "metadata": {},
   "source": [
    "# 桥接\n",
    "亦称：Bridge  \n",
    "桥接是一种结构型设计模式，可将一个大类或一系列紧密　相关的类拆分为抽象和实现　两个独立的层次结构，从而　能在开发时分别使用。\n",
    "\n"
   ]
  },
  {
   "cell_type": "code",
   "execution_count": null,
   "metadata": {},
   "outputs": [],
   "source": []
  }
 ],
 "metadata": {
  "language_info": {
   "name": "python"
  },
  "orig_nbformat": 4
 },
 "nbformat": 4,
 "nbformat_minor": 2
}
