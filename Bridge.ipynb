{
 "cells": [
  {
   "attachments": {},
   "cell_type": "markdown",
   "metadata": {},
   "source": [
    "# 桥接\n",
    "亦称：Bridge  \n",
    "桥接是一种结构型设计模式，可将一个大类或一系列紧密　相关的类拆分为抽象和实现　两个独立的层次结构，从而　能在开发时分别使用。\n",
    "\n"
   ]
  },
  {
   "attachments": {},
   "cell_type": "markdown",
   "metadata": {},
   "source": [
    "## Keyword\n",
    "层次结构中的第一层 （通常称为抽象部分） 将包含对第二层 （实现部分） 对象的引用。 抽象部分将能将一些 （有时是绝大部分） 对自己的调用委派给实现部分的对象。 所有的实现部分都有一个通用接口， 因此它们能在抽象部分内部相互替换。"
   ]
  },
  {
   "attachments": {},
   "cell_type": "markdown",
   "metadata": {},
   "source": [
    "## 最佳抽象"
   ]
  },
  {
   "cell_type": "code",
   "execution_count": 1,
   "metadata": {},
   "outputs": [
    {
     "name": "stdout",
     "output_type": "stream",
     "text": [
      "Abstraction: Base operation with:\n",
      "ConcreteImplementationA: Here's the result on the platform A.\n",
      "\n",
      "ExtendedAbstraction: Extended operation with:\n",
      "ConcreteImplementationB: Here's the result on the platform B."
     ]
    }
   ],
   "source": [
    "from __future__ import annotations\n",
    "from abc import ABC, abstractmethod\n",
    "\n",
    "\n",
    "class Abstraction:\n",
    "    \"\"\"\n",
    "    The Abstraction defines the interface for the \"control\" part of the two\n",
    "    class hierarchies. It maintains a reference to an object of the\n",
    "    Implementation hierarchy and delegates all of the real work to this object.\n",
    "    \"\"\"\n",
    "\n",
    "    def __init__(self, implementation: Implementation) -> None:\n",
    "        self.implementation = implementation\n",
    "\n",
    "    def operation(self) -> str:\n",
    "        return (f\"Abstraction: Base operation with:\\n\"\n",
    "                f\"{self.implementation.operation_implementation()}\")\n",
    "\n",
    "\n",
    "class ExtendedAbstraction(Abstraction):\n",
    "    \"\"\"\n",
    "    You can extend the Abstraction without changing the Implementation classes.\n",
    "    \"\"\"\n",
    "\n",
    "    def operation(self) -> str:\n",
    "        return (f\"ExtendedAbstraction: Extended operation with:\\n\"\n",
    "                f\"{self.implementation.operation_implementation()}\")\n",
    "\n",
    "\n",
    "class Implementation(ABC):\n",
    "    \"\"\"\n",
    "    The Implementation defines the interface for all implementation classes. It\n",
    "    doesn't have to match the Abstraction's interface. In fact, the two\n",
    "    interfaces can be entirely different. Typically the Implementation interface\n",
    "    provides only primitive operations, while the Abstraction defines higher-\n",
    "    level operations based on those primitives.\n",
    "    \"\"\"\n",
    "\n",
    "    @abstractmethod\n",
    "    def operation_implementation(self) -> str:\n",
    "        pass\n",
    "\n",
    "\n",
    "\"\"\"\n",
    "Each Concrete Implementation corresponds to a specific platform and implements\n",
    "the Implementation interface using that platform's API.\n",
    "\"\"\"\n",
    "\n",
    "\n",
    "class ConcreteImplementationA(Implementation):\n",
    "    def operation_implementation(self) -> str:\n",
    "        return \"ConcreteImplementationA: Here's the result on the platform A.\"\n",
    "\n",
    "\n",
    "class ConcreteImplementationB(Implementation):\n",
    "    def operation_implementation(self) -> str:\n",
    "        return \"ConcreteImplementationB: Here's the result on the platform B.\"\n",
    "\n",
    "\n",
    "def client_code(abstraction: Abstraction) -> None:\n",
    "    \"\"\"\n",
    "    Except for the initialization phase, where an Abstraction object gets linked\n",
    "    with a specific Implementation object, the client code should only depend on\n",
    "    the Abstraction class. This way the client code can support any abstraction-\n",
    "    implementation combination.\n",
    "    \"\"\"\n",
    "\n",
    "    # ...\n",
    "\n",
    "    print(abstraction.operation(), end=\"\")\n",
    "\n",
    "    # ...\n",
    "\n",
    "\n",
    "if __name__ == \"__main__\":\n",
    "    \"\"\"\n",
    "    The client code should be able to work with any pre-configured abstraction-\n",
    "    implementation combination.\n",
    "    \"\"\"\n",
    "\n",
    "    implementation = ConcreteImplementationA()\n",
    "    abstraction = Abstraction(implementation)\n",
    "    client_code(abstraction)\n",
    "\n",
    "    print(\"\\n\")\n",
    "\n",
    "    implementation = ConcreteImplementationB()\n",
    "    abstraction = ExtendedAbstraction(implementation)\n",
    "    client_code(abstraction)"
   ]
  },
  {
   "attachments": {},
   "cell_type": "markdown",
   "metadata": {},
   "source": [
    "## 最简实践\n",
    "我们设计了chatbot并有一个扩展imagechatbot，然后设计一个抽象实现类LLMs，两个具体实现类openai和qwen来实现不同的效果。最后使用client方法来实现功能。"
   ]
  },
  {
   "cell_type": "code",
   "execution_count": 29,
   "metadata": {},
   "outputs": [
    {
     "name": "stdout",
     "output_type": "stream",
     "text": [
      "目前调用的模型返回的内容是:\n",
      "你好我是Chatgpt\n",
      "\n",
      "目前调用的模型返回的内容是:\n",
      "一张可爱的金吉拉\n",
      "你好我是千问\n"
     ]
    }
   ],
   "source": [
    "from __future__ import annotations\n",
    "from abc import ABC, abstractmethod\n",
    "\n",
    "class chatbot:\n",
    "\n",
    "    def __init__(self,LLM:LLMs) -> None:\n",
    "        self.LLM = LLM\n",
    "\n",
    "    def chat(self):\n",
    "        print(f'目前调用的模型返回的内容是:\\n'\n",
    "              f'{self.LLM.chatgen()}')\n",
    "\n",
    "class imagechatbot(chatbot):\n",
    "\n",
    "   \n",
    "   def chat(self):\n",
    "        print(f'目前调用的模型返回的内容是:\\n'\n",
    "              f'{self.LLM.imagegen()}\\n'\n",
    "              f'{self.LLM.chatgen()}')\n",
    "\n",
    "class LLMs(ABC):\n",
    "\n",
    "    @abstractmethod\n",
    "    def chatgen(self):\n",
    "        pass\n",
    "\n",
    "    @abstractmethod\n",
    "    def imagegen(self):\n",
    "        pass\n",
    "\n",
    "class openai(LLMs):\n",
    "\n",
    "    def chatgen(self):\n",
    "        return(\"你好我是Chatgpt\")\n",
    "    \n",
    "    def imagegen(self):\n",
    "        return(\"一张可爱的雪纳瑞\")\n",
    "    \n",
    "class qwen(LLMs):\n",
    "\n",
    "    def chatgen(self):\n",
    "        return(f\"你好我是千问\")\n",
    "\n",
    "    def imagegen(self):\n",
    "        return(\"一张可爱的金吉拉\")\n",
    "    \n",
    "def client(bot:chatbot) -> None:\n",
    "    bot.chat()\n",
    "\n",
    "if __name__ == \"__main__\":\n",
    "    LLM1 = openai()\n",
    "    LLM2 = qwen()\n",
    "    bot1=chatbot(LLM1)\n",
    "    bot2=imagechatbot(LLM2)\n",
    "\n",
    "    client(bot1)\n",
    "    print('\\n',end=\"\")\n",
    "    client(bot2) \n",
    "\n",
    "\n",
    "    \n"
   ]
  }
 ],
 "metadata": {
  "kernelspec": {
   "display_name": "base",
   "language": "python",
   "name": "python3"
  },
  "language_info": {
   "codemirror_mode": {
    "name": "ipython",
    "version": 3
   },
   "file_extension": ".py",
   "mimetype": "text/x-python",
   "name": "python",
   "nbconvert_exporter": "python",
   "pygments_lexer": "ipython3",
   "version": "3.9.12"
  },
  "orig_nbformat": 4,
  "vscode": {
   "interpreter": {
    "hash": "88279d2366fe020547cde40dd65aa0e3aa662a6ec1f3ca12d88834876c85e1a6"
   }
  }
 },
 "nbformat": 4,
 "nbformat_minor": 2
}
